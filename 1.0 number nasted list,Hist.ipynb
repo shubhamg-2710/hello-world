{
 "cells": [
  {
   "cell_type": "markdown",
   "metadata": {},
   "source": [
    "   list - nasted list\n",
    "   boolean\n",
    "   Maths - operations\n",
    "   logical operations\n",
    "   insert\n",
    "   pop\n",
    "   default data structure - dict,lib,list\n",
    "   append\n",
    "   \n",
    "Day-2\n",
    "  pandas\n",
    "  datframes\n",
    "  series\n",
    "  indexing-i.loc\n",
    "  np.random number\n",
    "  uniform / standard normal no genration\n",
    "  \n",
    "  \n",
    "Day-3\n",
    "matplot.lib\n",
    "sunbun\n",
    "csv\n",
    "html\n",
    "jason\n",
    "\n",
    "   \n",
    "   "
   ]
  },
  {
   "cell_type": "code",
   "execution_count": 1,
   "metadata": {},
   "outputs": [
    {
     "name": "stdout",
     "output_type": "stream",
     "text": [
      "[1 2 3 4 5 6 7]\n",
      "[1.2, 52, 35, 2]\n"
     ]
    }
   ],
   "source": [
    "import numpy as np\n",
    "\n",
    "arr=([1,2,3,4,5])\n",
    "\n",
    "arr\n",
    "\n",
    " ##'this is not make array; it forms list.'\n",
    " ##and list size check  we have to use len function' \n",
    "type(arr)  \n",
    "len(arr)\n",
    "\n",
    "array=np.array([1,2,3,4,5,6,7])\n",
    "print(array)\n",
    "\n",
    "type(array)\n",
    "\n",
    "np.shape(array)\n",
    "\n",
    "\n",
    "# tuple , Caution!\n",
    "\n",
    "a_lst=(1,2,3,5)\n",
    "a_lst\n",
    "\n",
    "type(a_lst)\n",
    "\n",
    "a_lst=[1,2,3,5]\n",
    "type(a_lst)\n",
    "\n",
    "a_lst=([1,2,3,5])\n",
    "type(a_lst)\n",
    "\n",
    "ar=np.array(a_lst)\n",
    "ar\n",
    "\n",
    "np.shape(ar)\n",
    "\n",
    "type(ar)\n",
    "\n",
    "b_lst=([1,2,3,4],[1,2,3,5])\n",
    "b_lst\n",
    "\n",
    "br=np.array(b_lst)\n",
    "np.shape(br)\n",
    "type(br)\n",
    "\n",
    "br\n",
    "\n",
    "b_lst\n",
    "\n",
    "b_lst=[1,2,3,4]\n",
    "c_lst=[10,25,3.2,88.9]\n",
    "d_lst=[1.2,52,35,2]\n",
    "e_lst=[5,6,7,8]\n",
    "f_lst=[8,9,7,6]\n",
    "\n",
    "print(d_lst)"
   ]
  },
  {
   "cell_type": "code",
   "execution_count": 3,
   "metadata": {},
   "outputs": [],
   "source": [
    "#we=np.array([[b_lst],[c_lst],[d_lst],[e_lst],[f_lst]])\n",
    "\n",
    "we=np.array([b_lst,c_lst,d_lst,e_lst,f_lst])"
   ]
  },
  {
   "cell_type": "code",
   "execution_count": 4,
   "metadata": {},
   "outputs": [
    {
     "data": {
      "text/plain": [
       "array([[ 1. ,  2. ,  3. ,  4. ],\n",
       "       [10. , 25. ,  3.2, 88.9]])"
      ]
     },
     "execution_count": 4,
     "metadata": {},
     "output_type": "execute_result"
    }
   ],
   "source": [
    "# this 2d array bcz 2 sqre bracket strt and end #\n",
    "# how multi dim form? #\n",
    "\n",
    "we\n",
    "#we.shape\n",
    "\n",
    "# we stack this item but can't make lst even arryay.\n",
    "e = [[1,2,3,4],\n",
    "[10,25,3.2,88.9],\n",
    "[1.2,52,35,2],\n",
    "[5,6,7,8],\n",
    "[8,9,7,6]]\n",
    "e\n",
    "type(e)\n",
    "#np.shape(e)\n",
    "\n",
    "\n",
    "\n",
    "f=np.array(e)\n",
    "type(f)\n",
    "f\n",
    "\n",
    "np.shape(f)\n",
    "#f.shape\n",
    "\n",
    "e = (1,2,3,4,5,6,7,8,[8,9,7,6])\n",
    "type(e)\n",
    "\n",
    "e\n",
    "\n",
    "e = [1,2,3,4,5,6,7,8,[8,9,7,6]]\n",
    "e\n",
    "\n",
    "type(e)\n",
    "\n",
    "g=np.array(e)\n",
    "type(g)\n",
    "np.shape(g)\n",
    "\n",
    "np.array(e)\n",
    "\n",
    "type(d_lst)\n",
    "\n",
    "br=np.array(b_lst)\n",
    "type(br)\n",
    "br\n",
    "\n",
    "br=np.array([b_lst,c_lst,d_lst,e_lst,f_lst])\n",
    "type(br)\n",
    "br\n",
    "\n",
    "br=np.array([b_lst,c_lst])\n",
    "\n",
    "br"
   ]
  },
  {
   "cell_type": "markdown",
   "metadata": {},
   "source": [
    "##  creating number"
   ]
  },
  {
   "cell_type": "code",
   "execution_count": 4,
   "metadata": {},
   "outputs": [
    {
     "name": "stdout",
     "output_type": "stream",
     "text": [
      "1\n",
      "2\n",
      "3\n",
      "4\n",
      "1\n",
      "2\n",
      "3\n",
      "4\n",
      "1\n",
      "2\n",
      "3\n",
      "4\n",
      "(1, 5) \n",
      " (2, 5, 2)\n",
      "[1, 2]\n",
      "1 2\n"
     ]
    },
    {
     "data": {
      "text/plain": [
       "0.25"
      ]
     },
     "execution_count": 4,
     "metadata": {},
     "output_type": "execute_result"
    }
   ],
   "source": [
    "for number in range(1,5):\n",
    "    print(number)\n",
    "\n",
    "for x in range(1,5):\n",
    "  print(x)\n",
    "       \n",
    "\n",
    "for i in range(1,5):\n",
    "    print(i)\n",
    "\n",
    "for i in range(1) :\n",
    "    print ((1,5), '\\n',(2,5,2))\n",
    "\n",
    "a_list = list(range(1, 3))\n",
    "\n",
    "print(a_list)\n",
    "\n",
    "\n",
    "print(*range(1,3)) \n",
    "\n",
    "###\n",
    "\n",
    "list('tennumber')\n",
    "\n",
    "type(list(range(1,10)))\n",
    "\n",
    "abc =list(range(1,3))\n",
    "abc\n",
    "\n",
    "\n",
    "sum(abc)\n",
    "\n",
    "np.mean(abc)\n",
    "\n",
    "np.var(abc)"
   ]
  },
  {
   "cell_type": "markdown",
   "metadata": {},
   "source": [
    "## Histogram plot\n"
   ]
  },
  {
   "cell_type": "code",
   "execution_count": 17,
   "metadata": {},
   "outputs": [],
   "source": [
    "import matplotlib.pyplot as plt\n",
    "\n",
    "plt.hist(abc)\n",
    "plt.axvline(np.mean(abc), color='k', linestyle='-.', linewidth=1)\n",
    "#plt.axvline(np.var(abc), color='r', linestyle=':', linewidth=1)\n",
    "\n",
    "plt.hist(abc,bins=50)\n",
    "plt.axvline(np.mean(abc), color='k', linestyle='-.', linewidth=1)\n",
    "plt.axvline(np.var(abc), color='r', linestyle=':', linewidth=1)"
   ]
  },
  {
   "cell_type": "code",
   "execution_count": 5,
   "metadata": {},
   "outputs": [
    {
     "data": {
      "text/plain": [
       "array(['576', '635', '558'], dtype='<U3')"
      ]
     },
     "execution_count": 5,
     "metadata": {},
     "output_type": "execute_result"
    }
   ],
   "source": [
    "#l=np.array(['576','635','558'])\n",
    "l"
   ]
  },
  {
   "cell_type": "code",
   "execution_count": 133,
   "metadata": {},
   "outputs": [
    {
     "data": {
      "text/plain": [
       "600.2666666666667"
      ]
     },
     "execution_count": 133,
     "metadata": {},
     "output_type": "execute_result"
    }
   ],
   "source": [
    "l=[576,635,558,578,666,580,555,661,651,605,653,575,545,572,594]\n",
    "len(l)\n",
    "np.mean(l)"
   ]
  },
  {
   "cell_type": "code",
   "execution_count": 134,
   "metadata": {},
   "outputs": [
    {
     "data": {
      "text/plain": [
       "15"
      ]
     },
     "execution_count": 134,
     "metadata": {},
     "output_type": "execute_result"
    }
   ],
   "source": [
    "g=[3.39,3.30,2.81,3.03,3.44,3.07,3.00,3.43,3.36,3.13,3.12,2.74,2.76,2.88,3.96]\n",
    "len(g)"
   ]
  },
  {
   "cell_type": "code",
   "execution_count": 97,
   "metadata": {},
   "outputs": [
    {
     "data": {
      "text/plain": [
       "array([-24.26666667,  34.73333333, -42.26666667, -22.26666667,\n",
       "        65.73333333, -20.26666667, -45.26666667,  60.73333333,\n",
       "        50.73333333,   4.73333333,  52.73333333, -25.26666667,\n",
       "       -55.26666667, -28.26666667,  -6.26666667])"
      ]
     },
     "execution_count": 97,
     "metadata": {},
     "output_type": "execute_result"
    }
   ],
   "source": [
    "l[0:15]-np.mean(l)"
   ]
  },
  {
   "cell_type": "code",
   "execution_count": 98,
   "metadata": {},
   "outputs": [
    {
     "name": "stdout",
     "output_type": "stream",
     "text": [
      "mean of l 600.2666666666667\n",
      "mean of g 3.1613333333333333\n"
     ]
    }
   ],
   "source": [
    "print(\"mean of l\" ,np.mean(l))\n",
    "print(\"mean of g\", np.mean(g))\n"
   ]
  },
  {
   "cell_type": "code",
   "execution_count": 112,
   "metadata": {},
   "outputs": [],
   "source": [
    "theta=(sum((l[0:15]-np.mean(l))*(g[0:15]-np.mean(g))))/(math.sqrt(sum(((l[0:15]-np.mean(l))**2)*((g[0:15]-np.mean(g)))**2)))"
   ]
  },
  {
   "cell_type": "code",
   "execution_count": 113,
   "metadata": {},
   "outputs": [
    {
     "data": {
      "text/plain": [
       "2.5006016661469483"
      ]
     },
     "execution_count": 113,
     "metadata": {},
     "output_type": "execute_result"
    }
   ],
   "source": [
    "theta"
   ]
  },
  {
   "cell_type": "code",
   "execution_count": 114,
   "metadata": {},
   "outputs": [
    {
     "data": {
      "text/plain": [
       "41.731823216554744"
      ]
     },
     "execution_count": 114,
     "metadata": {},
     "output_type": "execute_result"
    }
   ],
   "source": [
    "import math\n",
    "math.sqrt(sum(((l[0:15]-np.mean(l))**2)*((g[0:15]-np.mean(g)))**2))"
   ]
  },
  {
   "cell_type": "code",
   "execution_count": 115,
   "metadata": {},
   "outputs": [
    {
     "data": {
      "text/plain": [
       "104.35466666666669"
      ]
     },
     "execution_count": 115,
     "metadata": {},
     "output_type": "execute_result"
    }
   ],
   "source": [
    "theta=sum((l[0:15]-np.mean(l))*(g[0:15]-np.mean(g)))\n",
    "theta"
   ]
  },
  {
   "cell_type": "code",
   "execution_count": 116,
   "metadata": {},
   "outputs": [
    {
     "data": {
      "text/plain": [
       "2.2737367544323206e-13"
      ]
     },
     "execution_count": 116,
     "metadata": {},
     "output_type": "execute_result"
    }
   ],
   "source": [
    "a=sum((l[0:15])-np.mean(l))\n",
    "a"
   ]
  },
  {
   "cell_type": "code",
   "execution_count": 117,
   "metadata": {},
   "outputs": [
    {
     "data": {
      "text/plain": [
       "-4.440892098500626e-16"
      ]
     },
     "execution_count": 117,
     "metadata": {},
     "output_type": "execute_result"
    }
   ],
   "source": [
    "b=sum(g[0:15]-np.mean(g))\n",
    "b"
   ]
  },
  {
   "cell_type": "code",
   "execution_count": 118,
   "metadata": {},
   "outputs": [
    {
     "data": {
      "text/plain": [
       "-1.0097419586828951e-28"
      ]
     },
     "execution_count": 118,
     "metadata": {},
     "output_type": "execute_result"
    }
   ],
   "source": [
    "c=a*b\n",
    "c"
   ]
  },
  {
   "cell_type": "code",
   "execution_count": 119,
   "metadata": {},
   "outputs": [
    {
     "data": {
      "text/plain": [
       "5.169878828456423e-26"
      ]
     },
     "execution_count": 119,
     "metadata": {},
     "output_type": "execute_result"
    }
   ],
   "source": [
    "d=sum(l[0:15]-np.mean(l))**2\n",
    "d"
   ]
  },
  {
   "cell_type": "code",
   "execution_count": 120,
   "metadata": {},
   "outputs": [
    {
     "data": {
      "text/plain": [
       "1.9721522630525295e-31"
      ]
     },
     "execution_count": 120,
     "metadata": {},
     "output_type": "execute_result"
    }
   ],
   "source": [
    "e=sum(g[0:15]-np.mean(g))**2\n",
    "e\n",
    "\n",
    "\n"
   ]
  },
  {
   "cell_type": "code",
   "execution_count": 121,
   "metadata": {},
   "outputs": [
    {
     "data": {
      "text/plain": [
       "1.0195788231247695e-56"
      ]
     },
     "execution_count": 121,
     "metadata": {},
     "output_type": "execute_result"
    }
   ],
   "source": [
    "d*e"
   ]
  },
  {
   "cell_type": "code",
   "execution_count": 122,
   "metadata": {},
   "outputs": [
    {
     "name": "stdout",
     "output_type": "stream",
     "text": [
      "1.0097419586828951e-28\n"
     ]
    }
   ],
   "source": [
    "f =math.sqrt(d*e)\n",
    "print(f)"
   ]
  },
  {
   "cell_type": "code",
   "execution_count": null,
   "metadata": {},
   "outputs": [],
   "source": []
  },
  {
   "cell_type": "code",
   "execution_count": 123,
   "metadata": {},
   "outputs": [
    {
     "data": {
      "text/plain": [
       "-1.0"
      ]
     },
     "execution_count": 123,
     "metadata": {},
     "output_type": "execute_result"
    }
   ],
   "source": [
    "i= (c) / (f)\n",
    "i"
   ]
  },
  {
   "cell_type": "code",
   "execution_count": null,
   "metadata": {},
   "outputs": [],
   "source": []
  },
  {
   "cell_type": "markdown",
   "metadata": {},
   "source": [
    "#### sample coreelation "
   ]
  },
  {
   "cell_type": "code",
   "execution_count": 124,
   "metadata": {},
   "outputs": [
    {
     "name": "stdout",
     "output_type": "stream",
     "text": [
      "-1.0\n"
     ]
    }
   ],
   "source": [
    "\n",
    "theta=(sum((l[0:15])-np.mean(l))*sum(g[0:15]-np.mean(g))) / math.sqrt((sum(l[0:15]-np.mean(l))**2)* (sum(g[0:15]-np.mean(g))**2))\n",
    "\n",
    " \n",
    "print(theta)    "
   ]
  },
  {
   "cell_type": "code",
   "execution_count": null,
   "metadata": {},
   "outputs": [],
   "source": [
    "#sum l[0:15]-np.mean(l)* g[0:15]-np.mean(g)"
   ]
  },
  {
   "cell_type": "code",
   "execution_count": 132,
   "metadata": {},
   "outputs": [
    {
     "data": {
      "text/plain": [
       "array([ 5.19927805e-14,  3.15291497e-14, -7.98839513e-14, -2.98617427e-14,\n",
       "        6.33614642e-14, -2.07667957e-14, -3.66829530e-14,  6.10877275e-14,\n",
       "        4.51715702e-14, -7.12437516e-15, -9.39811192e-15, -9.58001086e-14,\n",
       "       -9.12526351e-14, -6.39677940e-14,  1.81595775e-13])"
      ]
     },
     "execution_count": 132,
     "metadata": {},
     "output_type": "execute_result"
    }
   ],
   "source": [
    "sum(l[0:15]-np.mean(l))*(g[0:15]-np.mean(g))"
   ]
  },
  {
   "cell_type": "code",
   "execution_count": 131,
   "metadata": {},
   "outputs": [
    {
     "data": {
      "text/plain": [
       "1.033478561223569e+30"
      ]
     },
     "execution_count": 131,
     "metadata": {},
     "output_type": "execute_result"
    }
   ],
   "source": [
    "104.35466666666669 /  1.0097419586828951e-28"
   ]
  },
  {
   "cell_type": "code",
   "execution_count": 137,
   "metadata": {},
   "outputs": [
    {
     "data": {
      "text/plain": [
       "[576, 635, 558, 578, 666, 580, 555, 661, 651, 605, 653, 575, 545, 572, 594]"
      ]
     },
     "execution_count": 137,
     "metadata": {},
     "output_type": "execute_result"
    }
   ],
   "source": [
    "l\n"
   ]
  },
  {
   "cell_type": "code",
   "execution_count": 138,
   "metadata": {},
   "outputs": [
    {
     "data": {
      "text/plain": [
       "[3.39,\n",
       " 3.3,\n",
       " 2.81,\n",
       " 3.03,\n",
       " 3.44,\n",
       " 3.07,\n",
       " 3.0,\n",
       " 3.43,\n",
       " 3.36,\n",
       " 3.13,\n",
       " 3.12,\n",
       " 2.74,\n",
       " 2.76,\n",
       " 2.88,\n",
       " 3.96]"
      ]
     },
     "execution_count": 138,
     "metadata": {},
     "output_type": "execute_result"
    }
   ],
   "source": [
    "g"
   ]
  },
  {
   "cell_type": "code",
   "execution_count": 135,
   "metadata": {},
   "outputs": [
    {
     "data": {
      "text/plain": [
       "1193"
      ]
     },
     "execution_count": 135,
     "metadata": {},
     "output_type": "execute_result"
    }
   ],
   "source": [
    "l[1]+l[2]"
   ]
  },
  {
   "cell_type": "code",
   "execution_count": 136,
   "metadata": {},
   "outputs": [
    {
     "data": {
      "text/plain": [
       "638.3"
      ]
     },
     "execution_count": 136,
     "metadata": {},
     "output_type": "execute_result"
    }
   ],
   "source": [
    "l[1]+g[1]"
   ]
  },
  {
   "cell_type": "code",
   "execution_count": 147,
   "metadata": {},
   "outputs": [
    {
     "data": {
      "text/plain": [
       "-1462.0653333333332"
      ]
     },
     "execution_count": 147,
     "metadata": {},
     "output_type": "execute_result"
    }
   ],
   "source": [
    "l[0]-np.mean(l) * g[0]-np.mean(g)"
   ]
  },
  {
   "cell_type": "code",
   "execution_count": 140,
   "metadata": {},
   "outputs": [
    {
     "data": {
      "text/plain": [
       "int"
      ]
     },
     "execution_count": 140,
     "metadata": {},
     "output_type": "execute_result"
    }
   ],
   "source": [
    "type(l[1])"
   ]
  },
  {
   "cell_type": "code",
   "execution_count": 153,
   "metadata": {},
   "outputs": [
    {
     "data": {
      "text/plain": [
       "104.35466666666669"
      ]
     },
     "execution_count": 153,
     "metadata": {},
     "output_type": "execute_result"
    }
   ],
   "source": [
    "sum((l[0:15]-np.mean(l)) * (g[0:15]-np.mean(g)))"
   ]
  },
  {
   "cell_type": "code",
   "execution_count": 156,
   "metadata": {},
   "outputs": [
    {
     "data": {
      "text/plain": [
       "-0.7326222222222256"
      ]
     },
     "execution_count": 156,
     "metadata": {},
     "output_type": "execute_result"
    }
   ],
   "source": [
    "(l[0]-np.mean(l)) * (g[0]-np.mean(g)) + ((l[1]-np.mean(l)) * (g[1]-np.mean(g)))"
   ]
  },
  {
   "cell_type": "code",
   "execution_count": 158,
   "metadata": {},
   "outputs": [
    {
     "data": {
      "text/plain": [
       "4.8163555555555515"
      ]
     },
     "execution_count": 158,
     "metadata": {},
     "output_type": "execute_result"
    }
   ],
   "source": [
    "(l[1]-np.mean(l)) * (g[1]-np.mean(g))"
   ]
  },
  {
   "cell_type": "code",
   "execution_count": 159,
   "metadata": {},
   "outputs": [
    {
     "data": {
      "text/plain": [
       "-5.548977777777777"
      ]
     },
     "execution_count": 159,
     "metadata": {},
     "output_type": "execute_result"
    }
   ],
   "source": [
    "(l[0]-np.mean(l)) * (g[0]-np.mean(g))"
   ]
  },
  {
   "cell_type": "code",
   "execution_count": 160,
   "metadata": {},
   "outputs": [
    {
     "data": {
      "text/plain": [
       "-0.7326222222222256"
      ]
     },
     "execution_count": 160,
     "metadata": {},
     "output_type": "execute_result"
    }
   ],
   "source": [
    "-5.548977777777777 + 4.8163555555555515\n"
   ]
  },
  {
   "cell_type": "code",
   "execution_count": null,
   "metadata": {},
   "outputs": [],
   "source": []
  },
  {
   "cell_type": "code",
   "execution_count": null,
   "metadata": {},
   "outputs": [],
   "source": []
  },
  {
   "cell_type": "code",
   "execution_count": null,
   "metadata": {},
   "outputs": [],
   "source": []
  },
  {
   "cell_type": "code",
   "execution_count": null,
   "metadata": {},
   "outputs": [],
   "source": []
  }
 ],
 "metadata": {
  "kernelspec": {
   "display_name": "Python 3",
   "language": "python",
   "name": "python3"
  },
  "language_info": {
   "codemirror_mode": {
    "name": "ipython",
    "version": 3
   },
   "file_extension": ".py",
   "mimetype": "text/x-python",
   "name": "python",
   "nbconvert_exporter": "python",
   "pygments_lexer": "ipython3",
   "version": "3.7.4"
  }
 },
 "nbformat": 4,
 "nbformat_minor": 2
}
